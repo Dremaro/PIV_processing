{
 "cells": [
  {
   "cell_type": "markdown",
   "metadata": {},
   "source": [
    "# ImageProcessing\n",
    "     handle image loading, mean calculation, and saving.s\n",
    "# MobilePartProcessing\n",
    "     manage the mobile part data, including calculations and threshold filtering.\n",
    "# ExperimentData\n",
    "     encapsulate all experiment-related data such as image paths, periods, and intermediate results.\n",
    "# Visualization\n",
    "     handle all visualization tasks, including displaying images, scatter plots, and quiver plots.\n",
    "# UIHandler\n",
    "     manage all interactions with the user, such as input prompts and displaying Tkinter UI."
   ]
  },
  {
   "cell_type": "code",
   "execution_count": 21,
   "metadata": {},
   "outputs": [],
   "source": [
    "\n",
    "# Pour lancer ce programme, veuillez activer l'environnement virtuel dans le terminale\n",
    "import os\n",
    "import sys\n",
    "sys.path.insert(0, 'C:/Users/pc1/Leviia/Documents/1_Savoir et Apprentissage/Programmation/PythonKnowledge/mes_outils')\n",
    "\n",
    "import numpy as np\n",
    "import matplotlib.pyplot as plt\n",
    "import tkinter as tk\n",
    "\n",
    "from NanoFly_Objects import ImageProcessing, GestionnaireDonnees, ImageBrowser\n"
   ]
  },
  {
   "cell_type": "code",
   "execution_count": 8,
   "metadata": {},
   "outputs": [],
   "source": [
    "\n",
    "\n",
    "# path = r'C:\\Users\\pc1\\Leviia\\Documents\\2_ENS-Paris-Saclay\\3A__M2_BME2_IPP\\Stage_PMMH\\PIV_processing\\test\\\\'\n",
    "# pathsave = r'C:\\Users\\pc1\\Leviia\\Documents\\2_ENS-Paris-Saclay\\3A__M2_BME2_IPP\\Stage_PMMH\\PIV_processing\\1_test\\\\'\n",
    "\n",
    "# path = r'C:\\Users\\pc1\\Leviia\\Documents\\2_ENS-Paris-Saclay\\3A__M2_BME2_IPP\\Stage_PMMH\\PIV_processing\\essais\\essai_test\\VC7_data_test\\\\'\n",
    "# pathsave = r'C:\\Users\\pc1\\Leviia\\Documents\\2_ENS-Paris-Saclay\\3A__M2_BME2_IPP\\Stage_PMMH\\PIV_processing\\essais\\essai_test\\VC7_output_test\\\\'\n",
    "\n",
    "path = r'C:\\Users\\pc1\\Leviia\\Documents\\2_ENS-Paris-Saclay\\3A__M2_BME2_IPP\\Stage_PMMH\\PIV_processing\\essais\\essai_65Hz_threshold3100\\00_rawimages\\\\'\n",
    "# pathsave = r'C:\\Users\\pc1\\Leviia\\Documents\\2_ENS-Paris-Saclay\\3A__M2_BME2_IPP\\Stage_PMMH\\PIV_processing\\essais\\essai_65Hz_threshold3100\\01_csvimages\\\\'\n",
    "\n"
   ]
  },
  {
   "cell_type": "code",
   "execution_count": 13,
   "metadata": {},
   "outputs": [
    {
     "name": "stdout",
     "output_type": "stream",
     "text": [
      "Initialisation du gestionnaire de données\n"
     ]
    },
    {
     "name": "stderr",
     "output_type": "stream",
     "text": [
      "100%|██████████| 13/13 [00:00<00:00, 626.84it/s]\n"
     ]
    }
   ],
   "source": [
    "\n",
    "GD = GestionnaireDonnees(path, pourcentage=0.005)\n",
    "GD.vc7_en_vitesseUV()\n",
    "l_U, l_V = GD.l_U, GD.l_V\n"
   ]
  },
  {
   "cell_type": "code",
   "execution_count": 14,
   "metadata": {},
   "outputs": [],
   "source": [
    "root = tk.Tk()\n",
    "browser = ImageBrowser(root, l_images = l_U, size=500, show_name=True)\n",
    "root.mainloop()\n"
   ]
  },
  {
   "cell_type": "code",
   "execution_count": 22,
   "metadata": {},
   "outputs": [
    {
     "name": "stderr",
     "output_type": "stream",
     "text": [
      "13it [00:06,  2.07it/s]"
     ]
    },
    {
     "name": "stdout",
     "output_type": "stream",
     "text": [
      "done\n"
     ]
    },
    {
     "name": "stderr",
     "output_type": "stream",
     "text": [
      "\n"
     ]
    }
   ],
   "source": [
    "IP = ImageProcessing(l_U, l_V)\n",
    "IP.interpolation_trous()\n",
    "mobile_parts = IP.l_mobile_parts\n",
    "vitesses = IP.vitesses\n",
    "l_U_i = [vitesses[i][0] for i in range(len(vitesses))]\n",
    "l_V_i = [vitesses[i][1] for i in range(len(vitesses))]\n",
    "print(\"done\")\n",
    "\n"
   ]
  },
  {
   "cell_type": "code",
   "execution_count": 19,
   "metadata": {},
   "outputs": [],
   "source": [
    "root = tk.Tk()\n",
    "browser = ImageBrowser(root, l_images = l_U_i, size=500, show_name=True)\n",
    "root.mainloop()\n"
   ]
  },
  {
   "cell_type": "code",
   "execution_count": 9,
   "metadata": {},
   "outputs": [
    {
     "name": "stdout",
     "output_type": "stream",
     "text": [
      "- - - - - - - - - - - - - - - - - - - - - - - - - - - - - - - - - - - - - - - - - - - - - \n",
      "Vous pouvez maintenant compter le nombre d'images ayant défilé et le nombre de périodes,\n",
      "veillez à compter les images pour un nombre entier de périodes\n",
      "- - - - - - - - - - - - - - - - - - - - - - - - - - - - - - - - - - - - - - - - - - - - - \n"
     ]
    },
    {
     "ename": "ValueError",
     "evalue": "invalid literal for int() with base 10: ''",
     "output_type": "error",
     "traceback": [
      "\u001b[1;31m---------------------------------------------------------------------------\u001b[0m",
      "\u001b[1;31mValueError\u001b[0m                                Traceback (most recent call last)",
      "Cell \u001b[1;32mIn[9], line 1\u001b[0m\n\u001b[1;32m----> 1\u001b[0m \u001b[43mIP\u001b[49m\u001b[38;5;241;43m.\u001b[39;49m\u001b[43mmesurer_periode\u001b[49m\u001b[43m(\u001b[49m\u001b[43ml_U\u001b[49m\u001b[43m,\u001b[49m\u001b[43m \u001b[49m\u001b[43mshow_name\u001b[49m\u001b[38;5;241;43m=\u001b[39;49m\u001b[38;5;28;43;01mTrue\u001b[39;49;00m\u001b[43m)\u001b[49m\n\u001b[0;32m      2\u001b[0m \u001b[38;5;28mprint\u001b[39m(IP\u001b[38;5;241m.\u001b[39mn_images)\n\u001b[0;32m      3\u001b[0m \u001b[38;5;28mprint\u001b[39m(IP\u001b[38;5;241m.\u001b[39mperiode)\n",
      "File \u001b[1;32mc:\\Users\\pc1\\Leviia\\Documents\\2_ENS-Paris-Saclay\\3A__M2_BME2_IPP\\Stage_PMMH\\PIV_processing\\Mes_programmes_objet\\NanoFly_Objects.py:157\u001b[0m, in \u001b[0;36mImageProcessing.mesurer_periode\u001b[1;34m(self, l_image, show_name)\u001b[0m\n\u001b[0;32m    155\u001b[0m browser \u001b[38;5;241m=\u001b[39m ImageBrowser(root, l_images \u001b[38;5;241m=\u001b[39m l_image_255, show_name\u001b[38;5;241m=\u001b[39mshow_name)\n\u001b[0;32m    156\u001b[0m root\u001b[38;5;241m.\u001b[39mmainloop()\n\u001b[1;32m--> 157\u001b[0m \u001b[38;5;28mself\u001b[39m\u001b[38;5;241m.\u001b[39mn_images \u001b[38;5;241m=\u001b[39m \u001b[38;5;28;43mint\u001b[39;49m\u001b[43m(\u001b[49m\u001b[38;5;28;43minput\u001b[39;49m\u001b[43m(\u001b[49m\u001b[38;5;124;43m\"\u001b[39;49m\u001b[38;5;124;43mNombre d\u001b[39;49m\u001b[38;5;124;43m'\u001b[39;49m\u001b[38;5;124;43mimages ayant défilé : \u001b[39;49m\u001b[38;5;124;43m\"\u001b[39;49m\u001b[43m)\u001b[49m\u001b[43m)\u001b[49m\n\u001b[0;32m    158\u001b[0m \u001b[38;5;28mself\u001b[39m\u001b[38;5;241m.\u001b[39mn_periodes \u001b[38;5;241m=\u001b[39m \u001b[38;5;28mint\u001b[39m(\u001b[38;5;28minput\u001b[39m(\u001b[38;5;124m\"\u001b[39m\u001b[38;5;124mNombre de périodes : \u001b[39m\u001b[38;5;124m\"\u001b[39m))\n\u001b[0;32m    159\u001b[0m \u001b[38;5;28mself\u001b[39m\u001b[38;5;241m.\u001b[39mT_mean \u001b[38;5;241m=\u001b[39m \u001b[38;5;28mself\u001b[39m\u001b[38;5;241m.\u001b[39mn_images \u001b[38;5;241m/\u001b[39m \u001b[38;5;28mself\u001b[39m\u001b[38;5;241m.\u001b[39mn_periodes\n",
      "\u001b[1;31mValueError\u001b[0m: invalid literal for int() with base 10: ''"
     ]
    }
   ],
   "source": [
    "\n",
    "IP.mesurer_periode(l_U, show_name=True)\n",
    "print(IP.n_images)\n",
    "print(IP.periode)\n",
    "\n"
   ]
  }
 ],
 "metadata": {
  "kernelspec": {
   "display_name": "python3-11-7_PIV",
   "language": "python",
   "name": "python3"
  },
  "language_info": {
   "codemirror_mode": {
    "name": "ipython",
    "version": 3
   },
   "file_extension": ".py",
   "mimetype": "text/x-python",
   "name": "python",
   "nbconvert_exporter": "python",
   "pygments_lexer": "ipython3",
   "version": "3.11.7"
  }
 },
 "nbformat": 4,
 "nbformat_minor": 2
}
